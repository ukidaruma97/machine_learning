{
 "cells": [
  {
   "cell_type": "markdown",
   "metadata": {},
   "source": [
    "# 5. 차원 축소를 사용한 데이터 압축\n",
    "\n",
    "차원 축소를 위한 특성 선택의 또 다른 방식은 특성 추출(feature extraction)이다  \n",
    "이 장에서는 데이터셋의 정보를 요약하는 세 가지 기본적인 기술을 배울 것이다  \n",
    "이들은 원본 데이터셋을 좀 더 낮은 차원의 새로운 특성 부분 공간으로 변환한다  \n",
    "\n",
    "* 주성분 분석(Principal Component Analysis, PCA)을 사용한 비지도(unsupervised) 데이터 압축하기\n",
    "* 지도(supervised) 방식의 차원 축소 기법인 선형 판별 분석(Linear Discriminant Analysis, LDA)을 이용하여 클래스 구별 능력 최대화하기\n",
    "* 커널 PCA(kernel Principal Component Analysis, KPCA)를 사용한 비선형 차원 축소하기  \n",
    "\n",
    "## 5.1 주성분 분석을 통한 비지도 차원 축소\n",
    "\n",
    "특성 선택과 특성 추출의 차이는 원본 특성을 유지하느냐에 있다  \n",
    "순차 후진 선택같은 특성 선택 알고리즘을 사용할 때는 원본 특성을 유지하지만 특성 추출은 새로운 특성 공간으로 데이터를 변환하거나 투영한다  \n",
    "차원 축소 관점에서 보면 특성 추출은 대부분의 관련있는 정보를 유지하면서 데이터를 압축하는 방법으로 이해할 수 있다  \n",
    "특성 추출이 저장 공간을 절약하거나 학습 알고리즘의 계산 효율성을 향상할 뿐만 아니라 차원의 저주 문제를 감소시켜 예측 성능을 향상하기도 한다  \n",
    "\n",
    "### 5.1.1 주성분 분석의 주요 단계\n",
    "\n",
    "PCA는 특성 사이의 상관관계를 기반으로 하여 데이터에 있는 특성을 잡아낼 수 있다  \n",
    "PCA는 고차원 데이터에서 분산이 가장 큰 방향을 찾고 좀 더 작거나 같은 수의 차원을 갖는 새로운 부분 공간으로 이를 투영합니다  \n",
    "새로운 부분 공간의 직교 좌표는 주오진 조건하에서 분산이 최대인 방향으로 해석할 수 있다  \n",
    "<img src='https://blog.kakaocdn.net/dn/bHVVHh/btqBVgfijCd/Kkkehx2uyeKtFpSdQAOjz1/img.png'>\n",
    "$x_{1}$과 $x_{2}$는 원본 특성 축이고 PC1과 PC2는 주성분이다  \n",
    "\n",
    "PCA를 사용하여 차원을 축소하기 위해 $d$x$k$차원의 변환 행렬 $W$를 만든다  \n",
    "이 행렬로 샘플 벡터 $x$를 새로운 $k$차원의 특성 부분 공간으로 매핑한다  \n",
    "이 부분 공간은 원본 $d$차원의 특성 공간보다 작은 차원을 갖는다  \n",
    "$$\n",
    "x = \\left[x_{1},x_{2},\\cdots,x_{d}\\right], x\\in\\mathbb{R}^{d}\\\\\n",
    "\\downarrow xW, W\\in\\mathbb{R}^{d\\times k}\\\\\n",
    "z=\\left[z_{1},z_{2},\\cdots,z_{k}\\right], z\\in \\mathbb{R}^{k}\n",
    "$$\n"
   ]
  },
  {
   "cell_type": "code",
   "execution_count": null,
   "metadata": {},
   "outputs": [],
   "source": []
  }
 ],
 "metadata": {
  "kernelspec": {
   "display_name": "Python 3",
   "language": "python",
   "name": "python3"
  },
  "language_info": {
   "codemirror_mode": {
    "name": "ipython",
    "version": 3
   },
   "file_extension": ".py",
   "mimetype": "text/x-python",
   "name": "python",
   "nbconvert_exporter": "python",
   "pygments_lexer": "ipython3",
   "version": "3.7.3"
  }
 },
 "nbformat": 4,
 "nbformat_minor": 2
}
