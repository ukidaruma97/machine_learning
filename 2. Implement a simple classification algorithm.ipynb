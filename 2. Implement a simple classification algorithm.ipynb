{
 "cells": [
  {
   "cell_type": "markdown",
   "metadata": {},
   "source": [
    "# 2. Implement a simple classification algorithm\n",
    "- Intuitively understand machine learning algorithms\n",
    "- Read, process, and visualize data with Pandas, Numpy, and Matplops\n",
    "- Implementing a linear classification algorithm in python"
   ]
  },
  {
   "cell_type": "markdown",
   "metadata": {},
   "source": [
    "## 2.1 Artificial Neurons: A Brief History of Early Machine Learning\n",
    "### 2.1.2 Perceptron learning rules\n",
    "1. Initialize the weights to zero or a small random value\n",
    "2. Do the following on each training sample $x^(i)$\n",
    "    - Compute the output value $\\hat {y}$\n",
    "    - Update weights\n",
    "    \n",
    "Individual weights $w_{j}$ in weight vector $w$ are updated simultaneously\n",
    "$$w_{j} := w_{j} + \\Delta w_{j}$$\n",
    "The $w_{j}$ value used to update the weights $\\Delta w_{j}$ is calculated according to the perceptron learning rules\n",
    "$$\\Delta w_{j} = \\eta (y^i - \\hat{y}^i)x_{j}^{i}$$\n",
    "$\\eta$ is learning rate(typically an integer between 0.0 and 1.0)  \n",
    "$y^i$is true class label of the $i$th training sample  \n",
    "$\\hat {y}^i$is predicted class label  \n",
    "It is important to update all weights in the weight vector at the same time  \n",
    "$$\n",
    "\\Delta w_{0} = \\eta (y^i - output^i)\\\\\n",
    "\\Delta w_{1} = \\eta (y^i - output^i)x_{1}^i\\\\\n",
    "\\Delta w_{2} = \\eta (y^i - output^i)x_{2}^i\n",
    "$$\n",
    "In both cases where Perceptron correctly predicted the class label, the weight remains unchanged.\n",
    "$$\n",
    "\\Delta w_{j} = \\eta (-1--1)x_{j}^i = 0\\\\\n",
    "\\Delta w_{j} = \\eta (1-1)x_{j}^i = 0\n",
    "$$\n",
    "If wrongly predicted, move weights toward positive or negative target classes\n",
    "$$\n",
    "\\Delta w_{j} = \\eta (1--1)x_{j}^i = \\eta (2)x_{j}^i\\\\\n",
    "\\Delta w_{j} = \\eta (-1-1)x_{j}^i = \\eta (-2)x_{j}^i\n",
    "$$\n",
    "Perceptron ensures convergence only when the two classes are linearly separated and the learning rate is small enough"
   ]
  },
  {
   "cell_type": "markdown",
   "metadata": {},
   "source": [
    "## 2.2 Implement Perceptron Learning Algorithm in Python\n",
    "### 2.2.1 Object Oriented Perceptron API"
   ]
  },
  {
   "cell_type": "code",
   "execution_count": 5,
   "metadata": {},
   "outputs": [],
   "source": [
    "import numpy as np\n",
    "\n",
    "class Perceptron(object):\n",
    "    \"\"\"Perceptron Classifier\n",
    "    \n",
    "    parameter\n",
    "    ------------\n",
    "    eta : float\n",
    "        running rate (between 0 and 1)\n",
    "    n_iter : int\n",
    "        training dataset iterations\n",
    "    random_state : int\n",
    "        random number generator seed for weight randomization\n",
    "    \n",
    "    attribute\n",
    "    ------------\n",
    "    w_ : 1d-array\n",
    "        learned weights\n",
    "    errors_ :list\n",
    "        cumulative classification error per epoch\n",
    "        \n",
    "    \"\"\"\n",
    "    def __init__(self, eta=0.01, n_iter=50, random_state = 1):\n",
    "        self.eta = eta\n",
    "        self.n_iter = n_iter\n",
    "        self.random_state = random_state\n",
    "        \n",
    "    def fit(self, X, y):\n",
    "        \"\"\"Training data learning\n",
    "        \n",
    "        parameter\n",
    "        -------------\n",
    "        X : {array-like}, shape = [n_samples, n_features]\n",
    "            Training data consisting of n_samples samples and n_features characteristics\n",
    "        y : array-like, shape = [n_samples]\n",
    "            tsrget value\n",
    "            \n",
    "        Conversion value\n",
    "        -------\n",
    "        self : object\n",
    "        \n",
    "        \"\"\"\n",
    "        rgen = np.random.RandomState(self.random_state)\n",
    "        self.w_ =rgen.normal(loc=0.0, scale=0.01,\n",
    "                            size=1 + X.shape[1])\n",
    "        self.errors_ = []\n",
    "        \n",
    "        for _ in range(self.n_iter):\n",
    "            errors = 0\n",
    "            for xi, target in zip(X, y):\n",
    "                update = self.eta * (target - self.predict(xi))\n",
    "                self.w_[1:] += update * xi\n",
    "                self.w_[0] += update\n",
    "                errors += int(update != 0.0)\n",
    "            self.errors_.append(errors)\n",
    "        return self\n",
    "    \n",
    "    def net_input(self, X):\n",
    "        \"\"\"final input calculation\"\"\"\n",
    "        return np.dot(X, self.w_[1:]) + self.w_[0]\n",
    "    \n",
    "    def predict(self, X):\n",
    "        \"\"\"Return class label using unit step function\"\"\"\n",
    "        return np.where(self.net_input(X) >= 0.0, 1, -1)"
   ]
  },
  {
   "cell_type": "markdown",
   "metadata": {},
   "source": [
    "Use this perceptron implementation to initialize a new Perceptron object with a learning rate of eta and an epoch number of n_iter  \n",
    "In the fit method, initialize the weight self.w_ to the vector $\\mathbb{R}^{m+1}$($m$ is the number of dimensions in the dataset)  \n",
    "rgen is a numpy random number generator that can reproduce the same results as before with a random seed that you specified  \n",
    "If the weight is not 0, the learning rate $\\eta$ may affect the classification results  \n",
    "If the weight is reset to 0, the learning rate parameter eta only affects the size, not the direction of the weight vector  "
   ]
  },
  {
   "cell_type": "code",
   "execution_count": 6,
   "metadata": {},
   "outputs": [
    {
     "data": {
      "text/plain": [
       "0.0"
      ]
     },
     "execution_count": 6,
     "metadata": {},
     "output_type": "execute_result"
    }
   ],
   "source": [
    "v1 = np.array([1,2,3])\n",
    "v2 = 0.5 * v1\n",
    "np.arccos(v1.dot(v2) / (np.linalg.norm(v1) * np. linalg.norm(v2)))"
   ]
  },
  {
   "cell_type": "markdown",
   "metadata": {},
   "source": [
    "Use the vector dot $ a\\cdot b =|a||b|cos\\theta$ expression to calculate the angles of two vectors of different sizes only  \n",
    "Vector orientation does not change when only the size is changed to $\\eta$  \n",
    "The fit method initiates the weights and updates the weights in accordance with the Perceptron learning rules, touring all individual gamble in the training set repeatedly  \n",
    "Class labels are predicted in the Predict method  \n",
    "The predict method can also be used to predict the class label of new data after the model has been trained  "
   ]
  },
  {
   "cell_type": "markdown",
   "metadata": {},
   "source": [
    "### 2.2.2 Perceptron training in brush-flowing datasets\n",
    "Use only two classes, Sestosa and Versicolor, in the boolean dataset to test the perceptron implementation  \n",
    "Consider only calyx length and petal length for visualization  \n",
    "\n",
    "\n",
    "Check with the tail method to verify that the data loaded correctly"
   ]
  },
  {
   "cell_type": "code",
   "execution_count": 7,
   "metadata": {},
   "outputs": [
    {
     "data": {
      "text/html": [
       "<div>\n",
       "<style scoped>\n",
       "    .dataframe tbody tr th:only-of-type {\n",
       "        vertical-align: middle;\n",
       "    }\n",
       "\n",
       "    .dataframe tbody tr th {\n",
       "        vertical-align: top;\n",
       "    }\n",
       "\n",
       "    .dataframe thead th {\n",
       "        text-align: right;\n",
       "    }\n",
       "</style>\n",
       "<table border=\"1\" class=\"dataframe\">\n",
       "  <thead>\n",
       "    <tr style=\"text-align: right;\">\n",
       "      <th></th>\n",
       "      <th>0</th>\n",
       "      <th>1</th>\n",
       "      <th>2</th>\n",
       "      <th>3</th>\n",
       "      <th>4</th>\n",
       "    </tr>\n",
       "  </thead>\n",
       "  <tbody>\n",
       "    <tr>\n",
       "      <th>145</th>\n",
       "      <td>6.7</td>\n",
       "      <td>3.0</td>\n",
       "      <td>5.2</td>\n",
       "      <td>2.3</td>\n",
       "      <td>Iris-virginica</td>\n",
       "    </tr>\n",
       "    <tr>\n",
       "      <th>146</th>\n",
       "      <td>6.3</td>\n",
       "      <td>2.5</td>\n",
       "      <td>5.0</td>\n",
       "      <td>1.9</td>\n",
       "      <td>Iris-virginica</td>\n",
       "    </tr>\n",
       "    <tr>\n",
       "      <th>147</th>\n",
       "      <td>6.5</td>\n",
       "      <td>3.0</td>\n",
       "      <td>5.2</td>\n",
       "      <td>2.0</td>\n",
       "      <td>Iris-virginica</td>\n",
       "    </tr>\n",
       "    <tr>\n",
       "      <th>148</th>\n",
       "      <td>6.2</td>\n",
       "      <td>3.4</td>\n",
       "      <td>5.4</td>\n",
       "      <td>2.3</td>\n",
       "      <td>Iris-virginica</td>\n",
       "    </tr>\n",
       "    <tr>\n",
       "      <th>149</th>\n",
       "      <td>5.9</td>\n",
       "      <td>3.0</td>\n",
       "      <td>5.1</td>\n",
       "      <td>1.8</td>\n",
       "      <td>Iris-virginica</td>\n",
       "    </tr>\n",
       "  </tbody>\n",
       "</table>\n",
       "</div>"
      ],
      "text/plain": [
       "       0    1    2    3               4\n",
       "145  6.7  3.0  5.2  2.3  Iris-virginica\n",
       "146  6.3  2.5  5.0  1.9  Iris-virginica\n",
       "147  6.5  3.0  5.2  2.0  Iris-virginica\n",
       "148  6.2  3.4  5.4  2.3  Iris-virginica\n",
       "149  5.9  3.0  5.1  1.8  Iris-virginica"
      ]
     },
     "execution_count": 7,
     "metadata": {},
     "output_type": "execute_result"
    }
   ],
   "source": [
    "import pandas as pd\n",
    "df = pd.read_csv('https://archive.ics.uci.edu/ml/'\n",
    "                'machine-learning-databases/iris/iris.data',\n",
    "                header=None)\n",
    "df.tail()"
   ]
  },
  {
   "cell_type": "markdown",
   "metadata": {},
   "source": [
    "The values method of the Pandas DataFrame returns an array of Numpy"
   ]
  },
  {
   "cell_type": "code",
   "execution_count": 8,
   "metadata": {
    "scrolled": true
   },
   "outputs": [
    {
     "data": {
      "text/plain": [
       "<Figure size 640x480 with 1 Axes>"
      ]
     },
     "metadata": {},
     "output_type": "display_data"
    }
   ],
   "source": [
    "import matplotlib.pyplot as plt\n",
    "# Select setosa and versicolor\n",
    "y = df.iloc[0: 100, 4].values\n",
    "y = np.where(y == 'Iris-setosa', -1, 1)\n",
    "\n",
    "# Extract calyx length and petal length\n",
    "X = df.iloc[0: 100, [0, 2]].values\n",
    "\n",
    "# Draw a scatter plot\n",
    "plt.scatter(X[:50, 0], X[:50, 1],\n",
    "           color= 'red', marker= 'o', label= 'setoa')\n",
    "plt.scatter(X[50:100, 0], X[50: 100, 1],\n",
    "           color='blue', marker= 'x', label= 'versicolor')\n",
    "plt.xlabel('sepal length [cm]')\n",
    "plt.ylabel('petal length [cm]')\n",
    "plt.legend(loc='upper left')\n",
    "plt.show()"
   ]
  },
  {
   "cell_type": "markdown",
   "metadata": {},
   "source": [
    "In this two-dimensional subspace, a linear crystal boundary is sufficient to distinguish Setosa and Versicolor flowers\n",
    "\n",
    "\n",
    "Graph the misaligned error against the epoch to see if the algorithm converges to find the decision boundary that separates the two iris classes"
   ]
  },
  {
   "cell_type": "code",
   "execution_count": 9,
   "metadata": {},
   "outputs": [
    {
     "data": {
      "image/png": "[encoded data removed]",
      "text/plain": [
       "<Figure size 432x288 with 1 Axes>"
      ]
     },
     "metadata": {
      "needs_background": "light"
     },
     "output_type": "display_data"
    }
   ],
   "source": [
    "ppn = Perceptron(eta=0.1, n_iter=10)\n",
    "ppn.fit(X, y)\n",
    "plt.plot(range(1, len(ppn.errors_) + 1),\n",
    "        ppn.errors_, marker='o')\n",
    "plt.xlabel('Epochs')\n",
    "plt.ylabel('Number of errors')\n",
    "plt.show()"
   ]
  },
  {
   "cell_type": "markdown",
   "metadata": {},
   "source": [
    "As you can see in the graph above, Perceptron converged after the sixth epoch and perfectly classified the training samples  "
   ]
  },
  {
   "cell_type": "code",
   "execution_count": 10,
   "metadata": {},
   "outputs": [
    {
     "data": {
      "image/png": "[encoded data removed]",
      "text/plain": [
       "<Figure size 432x288 with 1 Axes>"
      ]
     },
     "metadata": {
      "needs_background": "light"
     },
     "output_type": "display_data"
    }
   ],
   "source": [
    "from matplotlib.colors import ListedColormap\n",
    "\n",
    "def plot_decision_regions(X, y, classifier, resolution=0.02):\n",
    "    \n",
    "    #Set markers and colormaps\n",
    "    markers = ('s', 'x', 'o', '^', 'v')\n",
    "    colors = ('red', 'blue', 'ligthgreen', 'gray', 'cyan')\n",
    "    cmap = ListedColormap(colors[:len(np.unique(y))])\n",
    "    \n",
    "    #Draw decision boundaries\n",
    "    x1_min, x1_max = X[:, 0].min() - 1, X[:, 0].max() + 1\n",
    "    x2_min, x2_max = X[:, 1].min() - 1, X[:, 1].max() + 1\n",
    "    xx1, xx2 = np.meshgrid(np.arange(x1_min, x1_max, resolution),\n",
    "                          np.arange(x2_min, x2_max, resolution))\n",
    "    Z = classifier.predict(np.array([xx1.ravel(), xx2.ravel()]).T)\n",
    "    Z = Z.reshape(xx1.shape)\n",
    "    plt.contourf(xx1, xx2, Z, alpha=0.3, cmap=cmap)\n",
    "    plt.xlim(xx1.min(), xx1.max())\n",
    "    plt.ylim(xx2.min(), xx2.max())\n",
    "    \n",
    "    #Draw a scatterplot of a sample\n",
    "    for idx, cl in enumerate(np.unique(y)):\n",
    "        plt.scatter(x=X[y == cl, 0],\n",
    "                   y=X[y == cl, 1],\n",
    "                   alpha=0.8,\n",
    "                   c=colors[idx],\n",
    "                   marker=markers[idx],\n",
    "                   label=cl,\n",
    "                   edgecolors='black')\n",
    "    \n",
    "plot_decision_regions(X, y, classifier=ppn)\n",
    "plt.xlabel('sepal length [cm]')\n",
    "plt.ylabel('petal length [cm]')\n",
    "plt.legend(loc='upper left')\n",
    "plt.show()"
   ]
  },
  {
   "cell_type": "markdown",
   "metadata": {},
   "source": [
    "As you can see in the graph above, the decision boundary learned by Perceptron perfectly classifies all samples in a dataset consisting of two irises"
   ]
  },
  {
   "cell_type": "markdown",
   "metadata": {},
   "source": [
    "## 2.3 ADAptive Linear NEuron(ADALINE) and Convergence of Learning\n",
    "\n",
    "ADALINE demonstrates the key concepts of defining and minimizing cost functions as continuous functions  \n",
    "The main difference between Adalin's rule and Rosenblatt Perceptron is the use of linear activation functions instead of unit step functions, like Perceptron, to update the hatch  \n",
    "In Adalin, the linear activation function $\\phi (z)$ is the same function as the final input  \n",
    "$$\n",
    "\\phi (w^{T}x) = w^{T}x\n",
    "$$\n",
    "- Comparison of Perceptron and Adalin Algorithms\n",
    "<img src=\"https://sebastianraschka.com/images/faq/diff-perceptron-adaline-neuralnet/4.png\">\n",
    "\n",
    "The Adalin algorithm compares the real class labels with the real output values of the linear activation function to calculate the model's error and update the weights  \n",
    "On the other hand, Perceptron compares the real class label with the predicted class label  \n",
    "\n",
    "### 2.3.1 Gradient descent minimizes cost function\n",
    "The key component of the supervised learning algorithm is the objective function that you define to optimize during the learning process  \n",
    "The objective cost function is usually the objective function  \n",
    "Adalin defines a cost function $J$ to learn the weights as the sum of squared errors(SSE) between the calculated output and the true class label  \n",
    "$$\n",
    "J(w) = \\frac {1}{2} {\\sum}_i (y^{(i)} - \\phi(z^{(i)}))^{2}\n",
    "$$\n",
    "\n",
    "The advantage of using a continuous linear activation function instead of a unit calculation function is that the cost function becomes differentiable  \n",
    "Another advantage of this cost function is that it is a convex function\n",
    "\n",
    "\n",
    "<img src=\"https://t1.daumcdn.net/cfile/tistory/99E6363359D86A8805\">\n",
    "\n",
    "Gradient descent updates the weights slightly in the opposite direction to gradient $\\Delta J(w)$ in cost function $J$  \n",
    "$$\n",
    "w:=w+\\Delta W\n",
    "$$\n",
    "\n",
    "The weight change $\\Delta w$ is defined as the negative gradient multiplied by the learning rate $\\eta$  \n",
    "$$\n",
    "\\Delta w =-\\eta\\triangledown J(w)\n",
    "$$\n",
    "\n",
    "To calculate the gradient of the cost function we need to calculate the partial derivative for each weight $w_{j}$\n",
    "$$\n",
    "\\frac {\\partial J}{\\partial w_{j}} = -\\sum _i(y^{(i)} - \\phi (z^{(i)}))x_{j}^{(i)}\n",
    "$$\n",
    "\n",
    "So you can write the update formula of weight $w_{j}$ as\n",
    "$$\n",
    "\\Delta w_{j} = -\\eta \\frac {\\partial J}{\\partial w_{j}} = \\eta \\sum _i(y^{(i)}-\\phi (z^{(i)}))x_{j}^{(i)}\n",
    "$$\n",
    "\n",
    "Because all weights are updated at the same time, the adaline learning rules are as follows:\n",
    "$$\n",
    "w:=w+\\Delta w\n",
    "$$\n",
    "\n",
    "The adaline learning rule looks the same as the perceptron rule, but $z^{(i)}=w^{T}x^{(i)}$ is a real number, not an integer class label  \n",
    "It also calculates weighted updates based on all the samples in the training set  \n",
    "This method is called batch gradient descent"
   ]
  },
  {
   "cell_type": "markdown",
   "metadata": {},
   "source": [
    "### 2.3.2 Implement Adaline in Python"
   ]
  },
  {
   "cell_type": "code",
   "execution_count": 13,
   "metadata": {},
   "outputs": [],
   "source": [
    "class AdalineGD(object):\n",
    "    \"\"\"Adaline claasifier\n",
    "    \n",
    "    parameter\n",
    "    --------------\n",
    "    eta : float\n",
    "        learning rate (between 0.0 and 1.0)\n",
    "    n_iter : int\n",
    "        Implement Adaline in Python\n",
    "    random_state : int\n",
    "        Random Number Generator Seed for Weight Randomization\n",
    "        \n",
    "    attribute\n",
    "    --------------\n",
    "    w_ : 1d-array\n",
    "        learned weights\n",
    "    cost_ : list\n",
    "        Sum of squared cost functions per epoch\n",
    "        \n",
    "    \"\"\"\n",
    "    def __init__(self, eta=0.01, n_iter=50, random_state=1):\n",
    "        self.eta = eta\n",
    "        self.n_iter = n_iter\n",
    "        self.random_state = random_state\n",
    "        \n",
    "    def fit(self, X, y):\n",
    "        \"\"\"Training data learning\n",
    "        \n",
    "        parameter\n",
    "        -------------\n",
    "        X : {array-like}, shape = [n_samples, n_features]\n",
    "            Training data consisting of n_samples samples and n_features characteristics\n",
    "        y : array-like, shape = [n_samples]\n",
    "            tsrget value\n",
    "            \n",
    "        Conversion value\n",
    "        -------\n",
    "        self : object\n",
    "        \n",
    "        \"\"\"\n",
    "        rgen = np.random.RandomState(self.random_state)\n",
    "        self.w_ = rgen.normal(loc=0.0, scale=0.01,\n",
    "                             size=1 + X.shape[1])\n",
    "        self.cost_ = []\n",
    "        \n",
    "        for i in range(self.n_iter):\n",
    "            net_input = self.net_input(X)\n",
    "            output = self.activation(net_input)\n",
    "            errors = (y - output)\n",
    "            self.w_[1:] += self.eta *X.T.dot(errors)\n",
    "            self.w_[0] += self.eta * errors.sum()\n",
    "            cost = (errors**2).sum() / 2.0\n",
    "            self.cost_.append(cost)\n",
    "        return self\n",
    "    \n",
    "    def net_input(self, X):\n",
    "        \"\"\"final input calculation\"\"\"\n",
    "        return np.dot(X, self.w_[1:]) + self.w_[0]\n",
    "    \n",
    "    def activation(self, X):\n",
    "        \"\"\"linear activation calculation\"\"\"\n",
    "        return X\n",
    "    \n",
    "    def predict(self, X):\n",
    "        \"\"\"Return class label using unit step function\"\"\"\n",
    "        return np.where(self.net_input(X) >= 0.0, 1, -1)"
   ]
  },
  {
   "cell_type": "markdown",
   "metadata": {},
   "source": [
    "Evaluate each individual training sample like Perceptron and then calculate the gradient based on the entire training dataset without updating the weights  \n",
    "We added an activation function to show how information flows through a single layer neural network  \n",
    "We need to experiment several times to find a good learning rate $\\eta$ that converges optimally  \n",
    "Two learning rates, $\\eta = 0.01$ and $\\eta = 0.0001$, show how well the adaline implementation learns from the training data"
   ]
  },
  {
   "cell_type": "code",
   "execution_count": 14,
   "metadata": {},
   "outputs": [
    {
     "data": {
      "image/png": "[encoded data removed]",
      "text/plain": [
       "<Figure size 720x288 with 2 Axes>"
      ]
     },
     "metadata": {
      "needs_background": "light"
     },
     "output_type": "display_data"
    }
   ],
   "source": [
    "fig, ax = plt.subplots(nrows=1, ncols=2, figsize=(10,4))\n",
    "ada1 = AdalineGD(n_iter=10, eta=0.01).fit(X,y)\n",
    "ax[0].plot(range(1, len(ada1.cost_) + 1),\n",
    "          np.log10(ada1.cost_), marker='o')\n",
    "ax[0].set_xlabel('Epochs')\n",
    "ax[0].set_ylabel('log(Sum-squared-error)')\n",
    "ax[0].set_title('Adaline - Learning rate 0.01')\n",
    "\n",
    "ada2 = AdalineGD(n_iter=10, eta=0.0001).fit(X, y)\n",
    "ax[1].plot(range(1, len(ada2.cost_) + 1),\n",
    "          ada2.cost_, marker='o')\n",
    "ax[1].set_xlabel('Epochs')\n",
    "ax[1].set_ylabel('Sum-squared-error')\n",
    "ax[1].set_title('Adaline - Learning rate 0.0001')\n",
    "plt.show()"
   ]
  },
  {
   "cell_type": "markdown",
   "metadata": {},
   "source": [
    "The left graph shows that the learning rate is so large that the cost function cannot be minimized and the error becomes larger per epoch  \n",
    "The graph on the right reduces the cost but the learning rate $\\eta=0.0001$ is so small that the algorithm needs a lot of epochs to converge to the global minimum\n",
    "\n",
    "<img src =\"https://www.jeremyjordan.me/content/images/2018/02/Screen-Shot-2018-02-24-at-11.47.09-AM.png\">"
   ]
  },
  {
   "cell_type": "code",
   "execution_count": null,
   "metadata": {},
   "outputs": [],
   "source": []
  }
 ],
 "metadata": {
  "kernelspec": {
   "display_name": "Python 3",
   "language": "python",
   "name": "python3"
  },
  "language_info": {
   "codemirror_mode": {
    "name": "ipython",
    "version": 3
   },
   "file_extension": ".py",
   "mimetype": "text/x-python",
   "name": "python",
   "nbconvert_exporter": "python",
   "pygments_lexer": "ipython3",
   "version": "3.7.3"
  }
 },
 "nbformat": 4,
 "nbformat_minor": 2
}
