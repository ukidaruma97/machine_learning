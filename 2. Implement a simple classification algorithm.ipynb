{
 "cells": [
  {
   "cell_type": "markdown",
   "metadata": {},
   "source": [
    "# 2. Implement a simple classification algorithm\n",
    "- Intuitively understand machine learning algorithms\n",
    "- Read, process, and visualize data with Pandas, Numpy, and Matplops\n",
    "- Implementing a linear classification algorithm in python"
   ]
  },
  {
   "cell_type": "markdown",
   "metadata": {},
   "source": [
    "## 2.1 Artificial Neurons: A Brief History of Early Machine Learning\n",
    "### 2.1.2 Perceptron learning rules\n",
    "1. Initialize the weights to zero or a small random value\n",
    "2. Do the following on each training sample $x^(i)$\n",
    "    - Compute the output value $\\hat {y}$\n",
    "    - Update weights\n",
    "    \n",
    "Individual weights $w_{j}$ in weight vector $w$ are updated simultaneously\n",
    "$$w_{j} := w_{j} + \\Delta w_{j}$$\n",
    "The $w_{j}$ value used to update the weights $\\Delta w_{j}$ is calculated according to the perceptron learning rules\n",
    "$$\\Delta w_{j} = \\eta (y^i - \\hat{y}^i)x_{j}^{i}$$\n",
    "$\\eta$ is learning rate(typically an integer between 0.0 and 1.0)  \n",
    "$y^i$is true class label of the $i$th training sample  \n",
    "$\\hat {y}^i$is predicted class label  \n",
    "It is important to update all weights in the weight vector at the same time  \n",
    "$$\n",
    "\\Delta w_{0} = \\eta (y^i - output^i)\\\\\n",
    "\\Delta w_{1} = \\eta (y^i - output^i)x_{1}^i\\\\\n",
    "\\Delta w_{2} = \\eta (y^i - output^i)x_{2}^i\n",
    "$$\n",
    "In both cases where Perceptron correctly predicted the class label, the weight remains unchanged.\n",
    "$$\n",
    "\\Delta w_{j} = \\eta (-1--1)x_{j}^i = 0\\\\\n",
    "\\Delta w_{j} = \\eta (1-1)x_{j}^i = 0\n",
    "$$\n",
    "If wrongly predicted, move weights toward positive or negative target classes\n",
    "$$\n",
    "\\Delta w_{j} = \\eta (1--1)x_{j}^i = \\eta (2)x_{j}^i\\\\\n",
    "\\Delta w_{j} = \\eta (-1-1)x_{j}^i = \\eta (-2)x_{j}^i\n",
    "$$\n",
    "Perceptron ensures convergence only when the two classes are linearly separated and the learning rate is small enough"
   ]
  },
  {
   "cell_type": "markdown",
   "metadata": {},
   "source": [
    "## 2.2 Implement Perceptron Learning Algorithm in Python\n",
    "### 2.2.1 Object Oriented Perceptron API"
   ]
  },
  {
   "cell_type": "code",
   "execution_count": 1,
   "metadata": {},
   "outputs": [],
   "source": [
    "import numpy as np\n",
    "\n",
    "class Perceptron(object):\n",
    "    \"\"\"Perceptron Classifier\n",
    "    \n",
    "    parameter\n",
    "    ------------\n",
    "    eta : float\n",
    "        running rate (between 0 and 1)\n",
    "    n_iter : int\n",
    "        training dataset iterations\n",
    "    random_state : int\n",
    "        random number generator seed for weight randomization\n",
    "    \n",
    "    property\n",
    "    ------------\n",
    "    w_ : 1d-array\n",
    "        learned weights\n",
    "    errors_ :list\n",
    "        cumulative classification error per epoch\n",
    "        \n",
    "    \"\"\"\n",
    "    def __init__(self, eta=0.01, n_iter=50, random_state = 1):\n",
    "        self.eta = eta\n",
    "        self.n_iter = n_iter\n",
    "        self.random_state = random_state\n",
    "        \n",
    "    def fit(self, X, y):\n",
    "        \"\"\"Training data learning\n",
    "        \n",
    "        parameter\n",
    "        -------------\n",
    "        X : {array-like}, shape = [n_samples, n_features]\n",
    "            n_samples개의 샘플과 n_features개의 특성으로 이루어진 훈련 데이터\n",
    "        y : array-like, shape = [n_samples]\n",
    "            타깃 값\n",
    "            \n",
    "        변환값\n",
    "        -------\n",
    "        self : object\n",
    "        \n",
    "        \"\"\"\n",
    "        rgen = np.random.RandomState(self.random_state)\n",
    "        self.w_ =rgen.normal(loc=0.0, scale=0.01,\n",
    "                            size=1 + X.shape[1])\n",
    "        self.errors_ = []\n",
    "        \n",
    "        for _ in range(self.n_iter):\n",
    "            errors = 0\n",
    "            for xi, target in zip(X, y):\n",
    "                update = self.eta * (target - self.predict(xi))\n",
    "                self.w_[1:] += update * xi\n",
    "                self.w_[0] += update\n",
    "                errors += int(update != 0.0)\n",
    "            self.errors_.append(errors)\n",
    "        return self\n",
    "    \n",
    "    def net_input(self, X):\n",
    "        \"\"\"최종 입력 계산\"\"\"\n",
    "        return np.dot(X, self.w_[1:]) + self.w_[0]\n",
    "    \n",
    "    def predict(self, X):\n",
    "        \"\"\"단위 계산 함수를 사용하여 클래스 레이블을 반환한다\"\"\"\n",
    "        return np.where(self.ner_input(X) >= 0.0, 1, -1)"
   ]
  },
  {
   "cell_type": "markdown",
   "metadata": {},
   "source": [
    "Use this perceptron implementation to initialize a new Perceptron object with a learning rate of eta and an epoch number of n_iter  \n",
    "In the fit method, initialize the weight self.w_ to the vector $\\mathbb{R}^{m+1}$($m$ is the number of dimensions in the dataset)\n"
   ]
  },
  {
   "cell_type": "code",
   "execution_count": 4,
   "metadata": {},
   "outputs": [
    {
     "data": {
      "text/plain": [
       "0.0"
      ]
     },
     "execution_count": 4,
     "metadata": {},
     "output_type": "execute_result"
    }
   ],
   "source": [
    "v1 = np.array([1,2,3])\n",
    "v2 = 0.5 * v1\n",
    "np.arccos(v1.dot(v2) / (np.linalg.norm(v1) * np. linalg.norm(v2)))"
   ]
  },
  {
   "cell_type": "code",
   "execution_count": 6,
   "metadata": {},
   "outputs": [
    {
     "name": "stderr",
     "output_type": "stream",
     "text": [
      "C:\\Users\\ukida\\AppData\\Local\\Continuum\\anaconda3\\lib\\importlib\\_bootstrap.py:219: RuntimeWarning: numpy.ufunc size changed, may indicate binary incompatibility. Expected 192 from C header, got 216 from PyObject\n",
      "  return f(*args, **kwds)\n",
      "C:\\Users\\ukida\\AppData\\Local\\Continuum\\anaconda3\\lib\\importlib\\_bootstrap.py:219: RuntimeWarning: numpy.ufunc size changed, may indicate binary incompatibility. Expected 192 from C header, got 216 from PyObject\n",
      "  return f(*args, **kwds)\n"
     ]
    },
    {
     "data": {
      "text/html": [
       "<div>\n",
       "<style scoped>\n",
       "    .dataframe tbody tr th:only-of-type {\n",
       "        vertical-align: middle;\n",
       "    }\n",
       "\n",
       "    .dataframe tbody tr th {\n",
       "        vertical-align: top;\n",
       "    }\n",
       "\n",
       "    .dataframe thead th {\n",
       "        text-align: right;\n",
       "    }\n",
       "</style>\n",
       "<table border=\"1\" class=\"dataframe\">\n",
       "  <thead>\n",
       "    <tr style=\"text-align: right;\">\n",
       "      <th></th>\n",
       "      <th>0</th>\n",
       "      <th>1</th>\n",
       "      <th>2</th>\n",
       "      <th>3</th>\n",
       "      <th>4</th>\n",
       "    </tr>\n",
       "  </thead>\n",
       "  <tbody>\n",
       "    <tr>\n",
       "      <th>145</th>\n",
       "      <td>6.7</td>\n",
       "      <td>3.0</td>\n",
       "      <td>5.2</td>\n",
       "      <td>2.3</td>\n",
       "      <td>Iris-virginica</td>\n",
       "    </tr>\n",
       "    <tr>\n",
       "      <th>146</th>\n",
       "      <td>6.3</td>\n",
       "      <td>2.5</td>\n",
       "      <td>5.0</td>\n",
       "      <td>1.9</td>\n",
       "      <td>Iris-virginica</td>\n",
       "    </tr>\n",
       "    <tr>\n",
       "      <th>147</th>\n",
       "      <td>6.5</td>\n",
       "      <td>3.0</td>\n",
       "      <td>5.2</td>\n",
       "      <td>2.0</td>\n",
       "      <td>Iris-virginica</td>\n",
       "    </tr>\n",
       "    <tr>\n",
       "      <th>148</th>\n",
       "      <td>6.2</td>\n",
       "      <td>3.4</td>\n",
       "      <td>5.4</td>\n",
       "      <td>2.3</td>\n",
       "      <td>Iris-virginica</td>\n",
       "    </tr>\n",
       "    <tr>\n",
       "      <th>149</th>\n",
       "      <td>5.9</td>\n",
       "      <td>3.0</td>\n",
       "      <td>5.1</td>\n",
       "      <td>1.8</td>\n",
       "      <td>Iris-virginica</td>\n",
       "    </tr>\n",
       "  </tbody>\n",
       "</table>\n",
       "</div>"
      ],
      "text/plain": [
       "       0    1    2    3               4\n",
       "145  6.7  3.0  5.2  2.3  Iris-virginica\n",
       "146  6.3  2.5  5.0  1.9  Iris-virginica\n",
       "147  6.5  3.0  5.2  2.0  Iris-virginica\n",
       "148  6.2  3.4  5.4  2.3  Iris-virginica\n",
       "149  5.9  3.0  5.1  1.8  Iris-virginica"
      ]
     },
     "execution_count": 6,
     "metadata": {},
     "output_type": "execute_result"
    }
   ],
   "source": [
    "import pandas as pd\n",
    "df = pd.read_csv('https://archive.ics.uci.edu/ml/'\n",
    "                'machine-learning-databases/iris/iris.data',\n",
    "                header=None)\n",
    "df.tail()"
   ]
  },
  {
   "cell_type": "code",
   "execution_count": 8,
   "metadata": {
    "scrolled": true
   },
   "outputs": [
    {
     "data": {
      "image/png": "[encoded data removed]",
      "text/plain": [
       "<Figure size 432x288 with 1 Axes>"
      ]
     },
     "metadata": {
      "needs_background": "light"
     },
     "output_type": "display_data"
    }
   ],
   "source": [
    "import matplotlib.pyplot as plt\n",
    "# setosa와 versicolor를 선택합니다\n",
    "y = df.iloc[0: 100, 4].values\n",
    "y = np.where(y == 'Iris-setosa', -1, 1)\n",
    "\n",
    "# 꽃받침 길이와 꽃잎 길이를 추출합니다\n",
    "X = df.iloc[0: 100, [0, 2]].values\n",
    "\n",
    "# 산점도를 그립니다\n",
    "plt.scatter(X[:50, 0], X[:50, 1],\n",
    "           color= 'red', marker= 'o', label= 'setoa')\n",
    "plt.scatter(X[50:100, 0], X[50: 100, 1],\n",
    "           color='blue', marker= 'x', label= 'versicolor')\n",
    "plt.xlabel('sepal length [cm]')\n",
    "plt.ylabel('petal length [cm]')\n",
    "plt.legend(loc='upper left')\n",
    "plt.show()"
   ]
  }
 ],
 "metadata": {
  "kernelspec": {
   "display_name": "Python 3",
   "language": "python",
   "name": "python3"
  },
  "language_info": {
   "codemirror_mode": {
    "name": "ipython",
    "version": 3
   },
   "file_extension": ".py",
   "mimetype": "text/x-python",
   "name": "python",
   "nbconvert_exporter": "python",
   "pygments_lexer": "ipython3",
   "version": "3.7.3"
  }
 },
 "nbformat": 4,
 "nbformat_minor": 2
}
