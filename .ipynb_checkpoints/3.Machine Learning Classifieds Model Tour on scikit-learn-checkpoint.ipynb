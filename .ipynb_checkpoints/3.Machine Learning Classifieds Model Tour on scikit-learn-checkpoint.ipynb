{
 "cells": [
  {
   "cell_type": "markdown",
   "metadata": {},
   "source": [
    "# 3.Machine Learning Classifieds Model Tour on scikit-learn\n",
    "- Introduction to powerful and popular classification algorithms, logistic regression, support vector machines, and decision trees\n",
    "- Using the scikit-learn machine learning library for examples and explanations\n",
    "- Describe the strengths and weaknesses of classification algorithms with linear or nonlinear decision boundaries"
   ]
  },
  {
   "cell_type": "markdown",
   "metadata": {},
   "source": [
    "## 3.1 Select classification algorithm\n",
    "\n",
    "The predictive and computational performance of the classification model depends heavily on the data you want to use for training  \n",
    "The five main steps for training machine learning algorithms are as follows\n",
    "1. Select property and collect training samples\n",
    "2. choose performance index\n",
    "3. Choose a classification model and an optimization algorithm\n",
    "4. Evaluate model performance\n",
    "5. Tune the algorithm\n",
    "\n",
    "## 3.2 Scikit-learn First Steps: Perceptron Training\n"
   ]
  },
  {
   "cell_type": "code",
   "execution_count": null,
   "metadata": {},
   "outputs": [],
   "source": []
  }
 ],
 "metadata": {
  "kernelspec": {
   "display_name": "Python 3",
   "language": "python",
   "name": "python3"
  },
  "language_info": {
   "codemirror_mode": {
    "name": "ipython",
    "version": 3
   },
   "file_extension": ".py",
   "mimetype": "text/x-python",
   "name": "python",
   "nbconvert_exporter": "python",
   "pygments_lexer": "ipython3",
   "version": "3.7.3"
  }
 },
 "nbformat": 4,
 "nbformat_minor": 2
}
