{
 "cells": [
  {
   "cell_type": "markdown",
   "metadata": {},
   "source": [
    "# 3.Machine Learning Classifieds Model Tour on scikit-learn\n",
    "- Introduction to powerful and popular classification algorithms, logistic regression, support vector machines, and decision trees\n",
    "- Using the scikit-learn machine learning library for examples and explanations\n",
    "- Describe the strengths and weaknesses of classification algorithms with linear or nonlinear decision boundaries"
   ]
  },
  {
   "cell_type": "markdown",
   "metadata": {},
   "source": [
    "## 3.1 Select classification algorithm\n",
    "\n",
    "The predictive and computational performance of the classification model depends heavily on the data you want to use for training  \n",
    "The five main steps for training machine learning algorithms are as follows\n",
    "1. Select property and collect training samples\n",
    "2. choose performance index\n",
    "3. Choose a classification model and an optimization algorithm\n",
    "4. Evaluate model performance\n",
    "5. Tune the algorithm\n",
    "\n",
    "## 3.2 Scikit-learn First Steps: Perceptron Training\n",
    "\n",
    "Use only two properties from the iris dataset for visualization  \n",
    "In 150 flower samples, the petal length and petal width are assigned to the characteristic matrix x, and the class labels corresponding to the corresponding flower varieties are assigned to the vector y  "
   ]
  },
  {
   "cell_type": "code",
   "execution_count": 2,
   "metadata": {},
   "outputs": [
    {
     "name": "stdout",
     "output_type": "stream",
     "text": [
      "Class Label: [0 1 2]\n"
     ]
    }
   ],
   "source": [
    "from sklearn import datasets\n",
    "import numpy as np\n",
    "\n",
    "iris = datasets.load_iris()\n",
    "X = iris.data[:, [2, 3]]\n",
    "y = iris.target\n",
    "print('Class Label:', np.unique(y))"
   ]
  },
  {
   "cell_type": "markdown",
   "metadata": {},
   "source": [
    "The np.unique (y) function returns three unique class labels stored in iris.target  \n",
    "As you can see, Iris-setosa, Iris-versicolor, and Iris-virginica are already stored as integers (here: 0,1,2)  \n",
    "Integer labels are recommended because they avoid small numbers and take up small memory areas, which improves computational performance  "
   ]
  },
  {
   "cell_type": "code",
   "execution_count": 3,
   "metadata": {},
   "outputs": [],
   "source": [
    "from sklearn.model_selection import train_test_split\n",
    "\n",
    "X_train, X_test, y_train, y_test = train_test_split(X, y, test_size=0.3, random_state=1, stratify=y)"
   ]
  },
  {
   "cell_type": "markdown",
   "metadata": {},
   "source": [
    "Randomly split X and y arrays using the train_test_split function of the scikit-learn model_selection module  \n",
    "30% will be test data, 70% will be training data  \n",
    "\n",
    "\n",
    "premix the dataset before the train_test_split function splits  \n",
    "Otherwise, class 0 and class 1 are in the training set, and the test set consists of only 45 samples of class 2  \n",
    "Passes a fixed ramdon seed (random_state = 1) to the random_state parameter to the pseudorandom number generator used to randomly shuffle the dataset before splitting  \n",
    "Fixing random_state can reproduce the result of execution  \n",
    "\n",
    "Finally use stratification via stratify = y  \n",
    "Stratification means that the train_test_split function makes the ratio of class labels in the training set and test set equal to the input data set  \n",
    "You can count the number of unique values ​​in an array using the numpy bincount function  \n",
    "\n",
    "\n",
    "Let's check the stratification"
   ]
  },
  {
   "cell_type": "code",
   "execution_count": 4,
   "metadata": {},
   "outputs": [
    {
     "name": "stdout",
     "output_type": "stream",
     "text": [
      "label count for y [50 50 50]\n"
     ]
    }
   ],
   "source": [
    "print('label count for y', np.bincount(y))"
   ]
  },
  {
   "cell_type": "code",
   "execution_count": 5,
   "metadata": {},
   "outputs": [
    {
     "name": "stdout",
     "output_type": "stream",
     "text": [
      "label count for y_train [35 35 35]\n"
     ]
    }
   ],
   "source": [
    "print('label count for y_train', np.bincount(y_train))"
   ]
  },
  {
   "cell_type": "code",
   "execution_count": 6,
   "metadata": {},
   "outputs": [
    {
     "name": "stdout",
     "output_type": "stream",
     "text": [
      "label count for y_test [15 15 15]\n"
     ]
    }
   ],
   "source": [
    "print('label count for y_test', np.bincount(y_test))"
   ]
  },
  {
   "cell_type": "markdown",
   "metadata": {},
   "source": [
    "We will standardize the characteristics using the StandardScaler class from scikit-learn's preprocessing module"
   ]
  },
  {
   "cell_type": "code",
   "execution_count": 7,
   "metadata": {},
   "outputs": [],
   "source": [
    "from sklearn.preprocessing import StandardScaler\n",
    "\n",
    "sc = StandardScaler()\n",
    "sc.fit(X_train)\n",
    "X_train_std = sc.transform(X_train)\n",
    "X_test_std = sc.transform(X_test)"
   ]
  },
  {
   "cell_type": "markdown",
   "metadata": {},
   "source": [
    "The fit method of the StandardScaler calculates $\\mu$ and $\\sigma$ for each feature dimension in the training set  \n",
    "Calling the transform method normalizes the training set using the computed $\\mu$ and $\\sigma$  \n",
    "Standardize the test set using the same $\\mu$ and $\\sigma$ so that samples from the training and test sets are moved at the same rate  \n",
    "\n",
    "Standardize training data and train perceptron models  \n",
    "Most of scikit-learn's algorithms support multiclass classifications using the OVR method  \n",
    "I will inject three iris classes into the perceptron at once"
   ]
  },
  {
   "cell_type": "code",
   "execution_count": 8,
   "metadata": {},
   "outputs": [
    {
     "data": {
      "text/plain": [
       "Perceptron(alpha=0.0001, class_weight=None, early_stopping=False, eta0=0.1,\n",
       "           fit_intercept=True, max_iter=40, n_iter_no_change=5, n_jobs=None,\n",
       "           penalty=None, random_state=1, shuffle=True, tol=0.001,\n",
       "           validation_fraction=0.1, verbose=0, warm_start=False)"
      ]
     },
     "execution_count": 8,
     "metadata": {},
     "output_type": "execute_result"
    }
   ],
   "source": [
    "from sklearn.linear_model import Perceptron\n",
    "\n",
    "ppn = Perceptron(max_iter=40, eta0=0.1, tol=1e-3, random_state=1)\n",
    "ppn.fit(X_train_std, y_train)"
   ]
  },
  {
   "cell_type": "markdown",
   "metadata": {},
   "source": [
    "Load the Perceptron class from the linear_model module, create a new Perceptron object, and train the model using the fit method  \n",
    "\n",
    "Some experimentation is required to find an appropriate learning rate  \n",
    "If the learning rate is too high, the algorithm goes past the global minimum  \n",
    "If the learning rate is too small, the learning rate is slow, which requires a lot of epochs to converge, especially on large datasets  \n",
    "Use the random_state parameter so that the results of mixing the training set per epoch are reproduced later  \n",
    "\n",
    "You can make predictions with the predict method"
   ]
  },
  {
   "cell_type": "code",
   "execution_count": 9,
   "metadata": {},
   "outputs": [
    {
     "name": "stdout",
     "output_type": "stream",
     "text": [
      "Misclassified Sample Count: 1\n"
     ]
    }
   ],
   "source": [
    "y_pred = ppn.predict(X_test_std)\n",
    "print('Misclassified Sample Count: %d' % (y_test != y_pred).sum())"
   ]
  },
  {
   "cell_type": "markdown",
   "metadata": {},
   "source": [
    "The scikit-learn library implements various performance metrics under the metrics module  \n",
    "For example, the classification accuracy of Perceptron in a test set is calculated as  "
   ]
  },
  {
   "cell_type": "code",
   "execution_count": 10,
   "metadata": {},
   "outputs": [
    {
     "name": "stdout",
     "output_type": "stream",
     "text": [
      "accuracy: 0.98\n"
     ]
    }
   ],
   "source": [
    "from sklearn.metrics import accuracy_score\n",
    "print('accuracy: %.2f' % accuracy_score(y_test, y_pred))"
   ]
  },
  {
   "cell_type": "markdown",
   "metadata": {},
   "source": [
    "Scikit-learn's classifier contains a score method that calculates the predictor's accuracy  \n",
    "This method calculates the accuracy of the predict and concatenation of the accuracy_score method"
   ]
  },
  {
   "cell_type": "code",
   "execution_count": 11,
   "metadata": {},
   "outputs": [
    {
     "name": "stdout",
     "output_type": "stream",
     "text": [
      "accuracy: 0.98\n"
     ]
    }
   ],
   "source": [
    "print('accuracy: %.2f' % ppn.score(X_test_std, y_test))"
   ]
  },
  {
   "cell_type": "markdown",
   "metadata": {},
   "source": [
    "Use plot_decision_regions to plot the boundary of the new Perceptron model to visualize how well the three iris samples are separated"
   ]
  },
  {
   "cell_type": "code",
   "execution_count": 22,
   "metadata": {},
   "outputs": [],
   "source": [
    "from matplotlib.colors import ListedColormap\n",
    "import matplotlib.pyplot as plt\n",
    "\n",
    "def plot_decision_regions(X, y, classifier, test_idx=None,\n",
    "                         resolution=0.02):\n",
    "    \n",
    "    #Set markers and colormaps\n",
    "    markers = ('s', 'x', 'o', '^', 'v')\n",
    "    colors = ('red', 'blue', 'lightgreen', 'gray', 'cyan')\n",
    "    cmap = ListedColormap(colors[:len(np.unique(y))])\n",
    "    \n",
    "    #Draws crystal boundaries\n",
    "    x1_min, x1_max = X[:, 0].min() - 1, X[:, 0].max() + 1\n",
    "    x2_min, x2_max = X[:, 1].min() - 1, X[:, 1].max() + 1\n",
    "    xx1, xx2 = np.meshgrid(np.arange(x1_min, x1_max, resolution),\n",
    "                           np.arange(x2_min, x2_max, resolution))\n",
    "    Z = classifier.predict(np.array([xx1.ravel(), xx2.ravel()]).T)\n",
    "    Z = Z.reshape(xx1.shape)\n",
    "    plt.contourf(xx1, xx2, Z, alpha=0.3, cmap=cmap)\n",
    "    plt.xlim(xx1.min(), xx1.max())\n",
    "    plt.ylim(xx2.min(), xx2.max())\n",
    "\n",
    "    for idx, cl in enumerate(np.unique(y)):\n",
    "        plt.scatter(x=X[y == cl, 0], \n",
    "                    y=X[y == cl, 1],\n",
    "                    alpha=0.8, \n",
    "                    c=colors[idx],\n",
    "                    marker=markers[idx], \n",
    "                    label=cl, \n",
    "                    edgecolor='black')\n",
    "        \n",
    "    #Highlight and draw test samples\n",
    "    if test_idx:\n",
    "        X_test, y_test = X[test_idx, :], y[test_idx]\n",
    "\n",
    "        plt.scatter(X_test[:, 0],\n",
    "                    X_test[:, 1],\n",
    "                    c='',\n",
    "                    edgecolor='black',\n",
    "                    alpha=1.0,\n",
    "                    linewidth=1,\n",
    "                    marker='o',\n",
    "                    s=100, \n",
    "                    label='test set')"
   ]
  },
  {
   "cell_type": "markdown",
   "metadata": {},
   "source": [
    "You can specify the test sample indices to display in the resulting graph in the modified plot_decision_regions function"
   ]
  },
  {
   "cell_type": "code",
   "execution_count": 23,
   "metadata": {},
   "outputs": [
    {
     "data": {
      "image/png": "[encoded data removed]",
      "text/plain": [
       "<Figure size 432x288 with 1 Axes>"
      ]
     },
     "metadata": {
      "needs_background": "light"
     },
     "output_type": "display_data"
    }
   ],
   "source": [
    "\n",
    "X_combined_std = np.vstack((X_train_std, X_test_std))\n",
    "y_combined = np.hstack((y_train, y_test))\n",
    "\n",
    "plot_decision_regions(X=X_combined_std, y=y_combined,\n",
    "                      classifier=ppn, test_idx=range(105, 150))\n",
    "plt.xlabel('petal length [standardized]')\n",
    "plt.ylabel('petal width [standardized]')\n",
    "plt.legend(loc='upper left')\n",
    "\n",
    "plt.tight_layout()\n",
    "plt.show()"
   ]
  },
  {
   "cell_type": "markdown",
   "metadata": {},
   "source": [
    "Three iris classes are not perfectly classified as linear decision boundaries  \n",
    "Perceptron algorithm cannot converge to datasets that are not linearly separated  "
   ]
  },
  {
   "cell_type": "markdown",
   "metadata": {},
   "source": [
    "## 3.3 Class Probability Modeling Using Logistic Regression\n",
    "\n",
    "### 3.3.1 Understanding Logistic Regression and Conditional Probability\n",
    "\n",
    "Logistic regression models are also linear models for binary classification, but can be extended to multiple classifications  \n",
    "For example, use the OvR method  \n",
    "To illustrate the idea behind the logistic regression model as a probabilistic model, let's first look at the odds ratio  \n",
    "Odds is the probability that a particular event will occur  \n",
    "The **odds ratio** can be written like $\\frac {p}{(1-p)}$\n",
    "$p$ is the probability that it is a positive sample  \n",
    "A positive sample doesn't mean anything good, but something you want to predict  \n",
    "For example, the probability of a patient having a disease  \n",
    "Positive sample is a sample with class label $y = 1$  \n",
    "Define the logit function by taking the logarithm to the odds ratio  \n",
    "$$\n",
    "logit(p)=log\\frac{p}{(1-p)}\n",
    "$$\n",
    "The logit function takes an input between 0 and 1 and converts it to a real range value  \n",
    "The linear relationship between the weighted sum of the properties and the logarithmic odds can be written as  \n",
    "$$\n",
    "logit(p(y=1|x))=w_{0}x_{0}+w_{1}x_{1}+\\cdot \\cdot \\cdot+w_{m}x_{m} = \\sum_{i=0}^{m}w_{i}x_{i}=w^{T}x\n",
    "$$\n",
    "Since it is of interest to predict the probability that a sample will belong to a particular class, we reverse the logit function  \n",
    "This function is called **logistic sigmoid function**  \n",
    "$$\n",
    "\\phi(z)=\\frac{1}{1+e^{-z}}\n",
    "$$\n",
    "Where z is the final input consisting of a linear combination of weights and sample properties  \n",
    "$z=w^{T}x=w_{0}x_{0}+w_{1}x_{1}+\\cdot \\cdot \\cdot+w_{m}x_{m}$\n",
    "\n",
    "Let's draw what the sigmoid function looks like"
   ]
  },
  {
   "cell_type": "code",
   "execution_count": 3,
   "metadata": {},
   "outputs": [
    {
     "data": {
      "image/png": "[encoded data removed]",
      "text/plain": [
       "<Figure size 432x288 with 1 Axes>"
      ]
     },
     "metadata": {
      "needs_background": "light"
     },
     "output_type": "display_data"
    }
   ],
   "source": [
    "import matplotlib.pyplot as plt\n",
    "import numpy as np\n",
    "def sigmoid(z):\n",
    "    return 1.0 / (1.0 + np.exp(-z))\n",
    "z = np.arange(-7, 7, 0.1)\n",
    "phi_z = sigmoid(z)\n",
    "plt.plot(z, phi_z)\n",
    "plt.axvline(0.0, color='k')\n",
    "plt.ylim(-0.1, 1.1)\n",
    "plt.xlabel('z')\n",
    "plt.ylabel('$\\phi (z)$')\n",
    "#Grid and grid lines on the y-axis\n",
    "plt.yticks([0.0, 0.5, 1.0])\n",
    "ax = plt.gca()\n",
    "ax.yaxis.grid(True)\n",
    "plt.tight_layout()\n",
    "plt.show()"
   ]
  },
  {
   "cell_type": "markdown",
   "metadata": {},
   "source": [
    "I used the identity function $\\phi(z) = z$ as the activation function in adaline  \n",
    "In logistic regression, the sigmoid function defined above becomes the activation function  "
   ]
  },
  {
   "cell_type": "code",
   "execution_count": null,
   "metadata": {},
   "outputs": [],
   "source": []
  }
 ],
 "metadata": {
  "kernelspec": {
   "display_name": "Python 3",
   "language": "python",
   "name": "python3"
  },
  "language_info": {
   "codemirror_mode": {
    "name": "ipython",
    "version": 3
   },
   "file_extension": ".py",
   "mimetype": "text/x-python",
   "name": "python",
   "nbconvert_exporter": "python",
   "pygments_lexer": "ipython3",
   "version": "3.7.3"
  }
 },
 "nbformat": 4,
 "nbformat_minor": 2
}
