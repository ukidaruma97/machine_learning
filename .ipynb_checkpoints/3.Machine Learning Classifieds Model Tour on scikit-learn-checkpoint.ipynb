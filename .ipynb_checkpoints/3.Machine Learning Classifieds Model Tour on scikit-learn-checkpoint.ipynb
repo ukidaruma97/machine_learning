{
 "cells": [
  {
   "cell_type": "markdown",
   "metadata": {},
   "source": [
    "# 3.Machine Learning Classifieds Model Tour on scikit-learn\n",
    "- Introduction to powerful and popular classification algorithms, logistic regression, support vector machines, and decision trees\n",
    "- Using the scikit-learn machine learning library for examples and explanations\n",
    "- Describe the strengths and weaknesses of classification algorithms with linear or nonlinear decision boundaries"
   ]
  },
  {
   "cell_type": "markdown",
   "metadata": {},
   "source": [
    "## 3.1 Select classification algorithm\n",
    "\n",
    "The predictive and computational performance of the classification model depends heavily on the data you want to use for training  \n",
    "The five main steps for training machine learning algorithms are as follows\n",
    "1. Select property and collect training samples\n",
    "2. choose performance index\n",
    "3. Choose a classification model and an optimization algorithm\n",
    "4. Evaluate model performance\n",
    "5. Tune the algorithm\n",
    "\n",
    "## 3.2 Scikit-learn First Steps: Perceptron Training\n",
    "\n",
    "Use only two properties from the iris dataset for visualization  \n",
    "In 150 flower samples, the petal length and petal width are assigned to the characteristic matrix x, and the class labels corresponding to the corresponding flower varieties are assigned to the vector y  "
   ]
  },
  {
   "cell_type": "code",
   "execution_count": 1,
   "metadata": {},
   "outputs": [
    {
     "name": "stdout",
     "output_type": "stream",
     "text": [
      "Class Label: [0 1 2]\n"
     ]
    }
   ],
   "source": [
    "from sklearn import datasets\n",
    "import numpy as np\n",
    "\n",
    "iris = datasets.load_iris()\n",
    "X = iris.data[:, [2, 3]]\n",
    "y = iris.target\n",
    "print('Class Label:', np.unique(y))"
   ]
  },
  {
   "cell_type": "markdown",
   "metadata": {},
   "source": [
    "The np.unique (y) function returns three unique class labels stored in iris.target  \n",
    "As you can see, Iris-setosa, Iris-versicolor, and Iris-virginica are already stored as integers (here: 0,1,2)  \n",
    "Integer labels are recommended because they avoid small numbers and take up small memory areas, which improves computational performance  "
   ]
  },
  {
   "cell_type": "code",
   "execution_count": 2,
   "metadata": {},
   "outputs": [],
   "source": [
    "from sklearn.model_selection import train_test_split\n",
    "\n",
    "X_train, X_test, y_train, y_test = train_test_split(X, y, test_size=0.3, random_state=1, stratify=y)"
   ]
  },
  {
   "cell_type": "markdown",
   "metadata": {},
   "source": [
    "Randomly split X and y arrays using the train_test_split function of the scikit-learn model_selection module  \n",
    "30% will be test data, 70% will be training data  \n",
    "\n",
    "\n",
    "premix the dataset before the train_test_split function splits  \n",
    "Otherwise, class 0 and class 1 are in the training set, and the test set consists of only 45 samples of class 2  \n",
    "Passes a fixed ramdon seed (random_state = 1) to the random_state parameter to the pseudorandom number generator used to randomly shuffle the dataset before splitting  \n",
    "Fixing random_state can reproduce the result of execution  \n",
    "\n",
    "Finally use stratification via stratify = y  \n",
    "Stratification means that the train_test_split function makes the ratio of class labels in the training set and test set equal to the input data set  \n",
    "You can count the number of unique values ​​in an array using the numpy bincount function  \n",
    "\n",
    "\n",
    "Let's check the stratification"
   ]
  },
  {
   "cell_type": "code",
   "execution_count": 3,
   "metadata": {},
   "outputs": [
    {
     "name": "stdout",
     "output_type": "stream",
     "text": [
      "label count for y [50 50 50]\n"
     ]
    }
   ],
   "source": [
    "print('label count for y', np.bincount(y))"
   ]
  },
  {
   "cell_type": "code",
   "execution_count": 4,
   "metadata": {},
   "outputs": [
    {
     "name": "stdout",
     "output_type": "stream",
     "text": [
      "label count for y_train [35 35 35]\n"
     ]
    }
   ],
   "source": [
    "print('label count for y_train', np.bincount(y_train))"
   ]
  },
  {
   "cell_type": "code",
   "execution_count": 5,
   "metadata": {},
   "outputs": [
    {
     "name": "stdout",
     "output_type": "stream",
     "text": [
      "label count for y_test [15 15 15]\n"
     ]
    }
   ],
   "source": [
    "print('label count for y_test', np.bincount(y_test))"
   ]
  },
  {
   "cell_type": "markdown",
   "metadata": {},
   "source": [
    "We will standardize the characteristics using the StandardScaler class from scikit-learn's preprocessing module"
   ]
  },
  {
   "cell_type": "code",
   "execution_count": 6,
   "metadata": {},
   "outputs": [],
   "source": [
    "from sklearn.preprocessing import StandardScaler\n",
    "\n",
    "sc = StandardScaler()\n",
    "sc.fit(X_train)\n",
    "X_train_std = sc.transform(X_train)\n",
    "X_test_std = sc.transform(X_test)"
   ]
  },
  {
   "cell_type": "markdown",
   "metadata": {},
   "source": [
    "The fit method of the StandardScaler calculates $\\mu$ and $\\sigma$ for each feature dimension in the training set  \n",
    "Calling the transform method normalizes the training set using the computed $\\mu$ and $\\sigma$  \n",
    "Standardize the test set using the same $\\mu$ and $\\sigma$ so that samples from the training and test sets are moved at the same rate  \n",
    "\n",
    "Standardize training data and train perceptron models  \n",
    "Most of scikit-learn's algorithms support multiclass classifications using the OVR method  \n",
    "I will inject three iris classes into the perceptron at once"
   ]
  },
  {
   "cell_type": "code",
   "execution_count": 7,
   "metadata": {},
   "outputs": [
    {
     "data": {
      "text/plain": [
       "Perceptron(alpha=0.0001, class_weight=None, early_stopping=False, eta0=0.1,\n",
       "           fit_intercept=True, max_iter=40, n_iter_no_change=5, n_jobs=None,\n",
       "           penalty=None, random_state=1, shuffle=True, tol=0.001,\n",
       "           validation_fraction=0.1, verbose=0, warm_start=False)"
      ]
     },
     "execution_count": 7,
     "metadata": {},
     "output_type": "execute_result"
    }
   ],
   "source": [
    "from sklearn.linear_model import Perceptron\n",
    "\n",
    "ppn = Perceptron(max_iter=40, eta0=0.1, tol=1e-3, random_state=1)\n",
    "ppn.fit(X_train_std, y_train)"
   ]
  },
  {
   "cell_type": "markdown",
   "metadata": {},
   "source": [
    "Load the Perceptron class from the linear_model module, create a new Perceptron object, and train the model using the fit method  \n",
    "\n",
    "Some experimentation is required to find an appropriate learning rate  \n",
    "If the learning rate is too high, the algorithm goes past the global minimum  \n",
    "If the learning rate is too small, the learning rate is slow, which requires a lot of epochs to converge, especially on large datasets  \n",
    "Use the random_state parameter so that the results of mixing the training set per epoch are reproduced later  \n",
    "\n",
    "You can make predictions with the predict method"
   ]
  },
  {
   "cell_type": "code",
   "execution_count": 8,
   "metadata": {},
   "outputs": [
    {
     "name": "stdout",
     "output_type": "stream",
     "text": [
      "Misclassified Sample Count: 1\n"
     ]
    }
   ],
   "source": [
    "y_pred = ppn.predict(X_test_std)\n",
    "print('Misclassified Sample Count: %d' % (y_test != y_pred).sum())"
   ]
  },
  {
   "cell_type": "markdown",
   "metadata": {},
   "source": [
    "The scikit-learn library implements various performance metrics under the metrics module  \n",
    "For example, the classification accuracy of Perceptron in a test set is calculated as  "
   ]
  },
  {
   "cell_type": "code",
   "execution_count": 9,
   "metadata": {},
   "outputs": [
    {
     "name": "stdout",
     "output_type": "stream",
     "text": [
      "accuracy: 0.98\n"
     ]
    }
   ],
   "source": [
    "from sklearn.metrics import accuracy_score\n",
    "print('accuracy: %.2f' % accuracy_score(y_test, y_pred))"
   ]
  },
  {
   "cell_type": "markdown",
   "metadata": {},
   "source": [
    "Scikit-learn's classifier contains a score method that calculates the predictor's accuracy  \n",
    "This method calculates the accuracy of the predict and concatenation of the accuracy_score method"
   ]
  },
  {
   "cell_type": "code",
   "execution_count": 10,
   "metadata": {},
   "outputs": [
    {
     "name": "stdout",
     "output_type": "stream",
     "text": [
      "accuracy: 0.98\n"
     ]
    }
   ],
   "source": [
    "print('accuracy: %.2f' % ppn.score(X_test_std, y_test))"
   ]
  },
  {
   "cell_type": "markdown",
   "metadata": {},
   "source": [
    "Use plot_decision_regions to plot the boundary of the new Perceptron model to visualize how well the three iris samples are separated"
   ]
  },
  {
   "cell_type": "code",
   "execution_count": 11,
   "metadata": {},
   "outputs": [],
   "source": [
    "from matplotlib.colors import ListedColormap\n",
    "import matplotlib.pyplot as plt\n",
    "\n",
    "def plot_decision_regions(X, y, classifier, test_idx=None,\n",
    "                         resolution=0.02):\n",
    "    \n",
    "    #Set markers and colormaps\n",
    "    markers = ('s', 'x', 'o', '^', 'v')\n",
    "    colors = ('red', 'blue', 'lightgreen', 'gray', 'cyan')\n",
    "    cmap = ListedColormap(colors[:len(np.unique(y))])\n",
    "    \n",
    "    #Draws crystal boundaries\n",
    "    x1_min, x1_max = X[:, 0].min() - 1, X[:, 0].max() + 1\n",
    "    x2_min, x2_max = X[:, 1].min() - 1, X[:, 1].max() + 1\n",
    "    xx1, xx2 = np.meshgrid(np.arange(x1_min, x1_max, resolution),\n",
    "                           np.arange(x2_min, x2_max, resolution))\n",
    "    Z = classifier.predict(np.array([xx1.ravel(), xx2.ravel()]).T)\n",
    "    Z = Z.reshape(xx1.shape)\n",
    "    plt.contourf(xx1, xx2, Z, alpha=0.3, cmap=cmap)\n",
    "    plt.xlim(xx1.min(), xx1.max())\n",
    "    plt.ylim(xx2.min(), xx2.max())\n",
    "\n",
    "    for idx, cl in enumerate(np.unique(y)):\n",
    "        plt.scatter(x=X[y == cl, 0], \n",
    "                    y=X[y == cl, 1],\n",
    "                    alpha=0.8, \n",
    "                    c=colors[idx],\n",
    "                    marker=markers[idx], \n",
    "                    label=cl, \n",
    "                    edgecolor='black')\n",
    "        \n",
    "    #Highlight and draw test samples\n",
    "    if test_idx:\n",
    "        X_test, y_test = X[test_idx, :], y[test_idx]\n",
    "\n",
    "        plt.scatter(X_test[:, 0],\n",
    "                    X_test[:, 1],\n",
    "                    c='',\n",
    "                    edgecolor='black',\n",
    "                    alpha=1.0,\n",
    "                    linewidth=1,\n",
    "                    marker='o',\n",
    "                    s=100, \n",
    "                    label='test set')"
   ]
  },
  {
   "cell_type": "markdown",
   "metadata": {},
   "source": [
    "You can specify the test sample indices to display in the resulting graph in the modified plot_decision_regions function"
   ]
  },
  {
   "cell_type": "code",
   "execution_count": 12,
   "metadata": {},
   "outputs": [
    {
     "data": {
      "image/png": "[encoded data removed]",
      "text/plain": [
       "<Figure size 432x288 with 1 Axes>"
      ]
     },
     "metadata": {
      "needs_background": "light"
     },
     "output_type": "display_data"
    }
   ],
   "source": [
    "\n",
    "X_combined_std = np.vstack((X_train_std, X_test_std))\n",
    "y_combined = np.hstack((y_train, y_test))\n",
    "\n",
    "plot_decision_regions(X=X_combined_std, y=y_combined,\n",
    "                      classifier=ppn, test_idx=range(105, 150))\n",
    "plt.xlabel('petal length [standardized]')\n",
    "plt.ylabel('petal width [standardized]')\n",
    "plt.legend(loc='upper left')\n",
    "\n",
    "plt.tight_layout()\n",
    "plt.show()"
   ]
  },
  {
   "cell_type": "markdown",
   "metadata": {},
   "source": [
    "Three iris classes are not perfectly classified as linear decision boundaries  \n",
    "Perceptron algorithm cannot converge to datasets that are not linearly separated  "
   ]
  },
  {
   "cell_type": "markdown",
   "metadata": {},
   "source": [
    "## 3.3 Class Probability Modeling Using Logistic Regression\n",
    "\n",
    "### 3.3.1 Understanding Logistic Regression and Conditional Probability\n",
    "\n",
    "Logistic regression models are also linear models for binary classification, but can be extended to multiple classifications  \n",
    "For example, use the OvR method  \n",
    "To illustrate the idea behind the logistic regression model as a probabilistic model, let's first look at the odds ratio  \n",
    "Odds is the probability that a particular event will occur  \n",
    "The **odds ratio** can be written like $\\frac {p}{(1-p)}$\n",
    "$p$ is the probability that it is a positive sample  \n",
    "A positive sample doesn't mean anything good, but something you want to predict  \n",
    "For example, the probability of a patient having a disease  \n",
    "Positive sample is a sample with class label $y = 1$  \n",
    "Define the logit function by taking the logarithm to the odds ratio  \n",
    "$$\n",
    "logit(p)=log\\frac{p}{(1-p)}\n",
    "$$\n",
    "The logit function takes an input between 0 and 1 and converts it to a real range value  \n",
    "The linear relationship between the weighted sum of the properties and the logarithmic odds can be written as  \n",
    "$$\n",
    "logit(p(y=1|x))=w_{0}x_{0}+w_{1}x_{1}+\\cdot \\cdot \\cdot+w_{m}x_{m} = \\sum_{i=0}^{m}w_{i}x_{i}=w^{T}x\n",
    "$$\n",
    "Since it is of interest to predict the probability that a sample will belong to a particular class, we reverse the logit function  \n",
    "This function is called **logistic sigmoid function**  \n",
    "$$\n",
    "\\phi(z)=\\frac{1}{1+e^{-z}}\n",
    "$$\n",
    "Where z is the final input consisting of a linear combination of weights and sample properties  \n",
    "$z=w^{T}x=w_{0}x_{0}+w_{1}x_{1}+\\cdot \\cdot \\cdot+w_{m}x_{m}$\n",
    "\n",
    "Let's draw what the sigmoid function looks like"
   ]
  },
  {
   "cell_type": "code",
   "execution_count": 13,
   "metadata": {},
   "outputs": [
    {
     "data": {
      "image/png": "[encoded data removed]",
      "text/plain": [
       "<Figure size 432x288 with 1 Axes>"
      ]
     },
     "metadata": {
      "needs_background": "light"
     },
     "output_type": "display_data"
    }
   ],
   "source": [
    "import matplotlib.pyplot as plt\n",
    "import numpy as np\n",
    "def sigmoid(z):\n",
    "    return 1.0 / (1.0 + np.exp(-z))\n",
    "z = np.arange(-7, 7, 0.1)\n",
    "phi_z = sigmoid(z)\n",
    "plt.plot(z, phi_z)\n",
    "plt.axvline(0.0, color='k')\n",
    "plt.ylim(-0.1, 1.1)\n",
    "plt.xlabel('z')\n",
    "plt.ylabel('$\\phi (z)$')\n",
    "#Grid and grid lines on the y-axis\n",
    "plt.yticks([0.0, 0.5, 1.0])\n",
    "ax = plt.gca()\n",
    "ax.yaxis.grid(True)\n",
    "plt.tight_layout()\n",
    "plt.show()"
   ]
  },
  {
   "cell_type": "markdown",
   "metadata": {},
   "source": [
    "I used the identity function $\\phi(z) = z$ as the activation function in adaline  \n",
    "In logistic regression, the sigmoid function defined above becomes the activation function  \n",
    "- difference of Adaline and logistic regression\n",
    "<img src='https://www.safaribooksonline.com/library/view/python-machine-learning/9781787125933/graphics/B07030_03_03.jpg'>\n",
    "\n",
    "Interpret the output of the sigmoid function given by the property $x$ multiplied by the weight $w$ as the probability $\\phi(z)=P(y=1|x;w)$ that a particular sample belongs to class 1  \n",
    "The prediction probability can be easily converted to binary output using a critical function  \n",
    "$$\n",
    "\\widehat{y}=\\begin{cases}\n",
    "1\\quad\\phi(z)\\geq0.5\\\\ \n",
    "0\\quad etc\n",
    "\\end{cases}\n",
    "$$\n",
    "If you look at the previous sigmoid function graph, you can see that it is the same as the following:  \n",
    "$$\n",
    "\\widehat{y}=\\begin{cases}\n",
    "1\\quad(z)\\geq0.0\\\\ \n",
    "0\\quad etc\n",
    "\\end{cases}\n",
    "$$\n",
    "\n",
    "### 3.2.2 Weights Learning of Rogistic Cost Function\n",
    "Now let's take a quick look at how to learn the model parameter $w$  \n",
    "In the previous chapter, we defined the sum of squared errors cost function  \n",
    "$$\n",
    "J(w)=\\sum_{i}\\frac{1}{2}(\\phi(z^{(i)})-y^{(i)})^{2}\n",
    "$$\n",
    "Learn the weights w to minimize this function in the Adalan classification model  \n",
    "To illustrate how to derive the cost function of logistic regression, we will first define the likelihood $L$ that we want to maximize when creating a logistic regression model  \n",
    "Suppose each sample in a dataset is independent of each other\n",
    "$$\n",
    "L(w)=P(y|x;y)=\\prod_{i=1}^{n}P(y^{(i)}|x^{(i)};w)=\\prod_{i=1}^{n}(\\phi(z^{(i)}))^{y^{(i)}}(1-\\phi(z^{(i)}))^{1-y^{(i)}}\n",
    "$$\n",
    "In practice, it is easier to maximize the log of this formula  \n",
    "This function is called the log likelihood function\n",
    "$$\n",
    "l(w)=\\log L(w)=\\sum_{i=1}^{n}\\left[y^{(i)}\\log\\left(\\phi\\left(z^{(i)}\\right)\\right)+\\left(1-y^{(i)}\\right)\\log\\left(1-\\phi\\left(z^{(i)}\\right)\\right)\\right]\n",
    "$$\n",
    "Using a logarithmic function prevents numerical underflow that occurs when the probability is very small  \n",
    "The product of coefficients can be replaced by the sum of the coefficients  \n",
    "This makes it easier to find derivatives  \n",
    "You can maximize this log likelihood function by using optimization algorithms such as gradient rise  \n",
    "Alternatively, the log likelihood function can be expressed again as the cost function $J$, which can be minimized using gradient descent  \n",
    "$$\n",
    "J(w)=\\sum_{i=1}^{n}\\left[-y^{(i)}\\log\\left(\\phi\\left(z^{(i)}\\right)\\right)-\\left(1-y^{(i)}\\right)\\log\\left(1-\\phi\\left(z^{(i)}\\right)\\right)\\right]\n",
    "$$\n",
    "To better understand this cost function, let's calculate the cost when there is only one sample  \n",
    "$$\n",
    "J\\left(\\phi\\left(z\\right),y;w\\right)=-y\\log\\left(\\phi\\left(z\\right)\\right)-\\left(1-y\\right)\\log\\left(1-\\phi\\left(z\\right)\\right)\n",
    "$$\n",
    "In the equation, the first term is 0 when $y = 0$  \n",
    "If $y = 1$, the second term is 0  \n",
    "$$\n",
    "J\\left(\\phi\\left(z\\right),y;w\\right)=\\begin{cases}\n",
    "-\\log\\left(\\phi\\left(z\\right)\\right)\\quad y=1\\\\\n",
    "-\\log\\left(1-\\phi\\left(z\\right)\\right)\\quad y=0\n",
    "\\end{cases}\n",
    "$$\n",
    "If we have one sample, let's draw a classification cost for the $\\phi\\left(z\\right)$ value"
   ]
  },
  {
   "cell_type": "code",
   "execution_count": 14,
   "metadata": {},
   "outputs": [
    {
     "data": {
      "image/png": "[encoded data removed]",
      "text/plain": [
       "<Figure size 432x288 with 1 Axes>"
      ]
     },
     "metadata": {
      "needs_background": "light"
     },
     "output_type": "display_data"
    }
   ],
   "source": [
    "def cost_1(z):\n",
    "    return - np.log(sigmoid(z))\n",
    "def cost_0(z):\n",
    "    return - np.log(1 - sigmoid(z))\n",
    "z=np.arange(-10, 10, 0.1)\n",
    "phi_z = sigmoid(z)\n",
    "c1 = [cost_1(x) for x in z]\n",
    "plt.plot(phi_z, c1, label='J(w) if y=1')\n",
    "c0 = [cost_0(x) for x in z]\n",
    "plt.plot(phi_z, c0, linestyle='--', label='J(w) if y=0')\n",
    "plt.ylim(0.0, 5.1)\n",
    "plt.xlim([0, 1])\n",
    "plt.xlabel('$\\phi$(z)')\n",
    "plt.ylabel('J(w)')\n",
    "plt.legend(loc='best')\n",
    "plt.tight_layout()\n",
    "plt.show()"
   ]
  },
  {
   "cell_type": "markdown",
   "metadata": {},
   "source": [
    "Incorrect forecasting leads to infinite costs  \n",
    "It's important to give more and more cost to the wrong side"
   ]
  },
  {
   "cell_type": "markdown",
   "metadata": {},
   "source": [
    "### 3.3.3 Changed Adaline Implementation to Logistic Regression Algorithm\n",
    "\n",
    "To implement logistic regression, replace the cost function $J$ with a new cost function in the adaline implementation  \n",
    "$$\n",
    "J\\left(w\\right)=-\\sum_{i}\\left[y^{(i)}\\log\\left(\\phi\\left(z^{(i)}\\right)\\right)+\\left(1-y^{(i)}\\right)\\log\\left(1-\\phi\\left(z^{(i)}\\right)\\right)\\right]\n",
    "$$\n",
    "This function calculates the cost of classifying all training samples per epoch  \n",
    "Change the linear activation function to sigmoid activation and change the threshold to return 0 and 1 instead of the class labels -1 and 1  \n",
    "Incorporating these three into the Adalin code gives a logistic regression  "
   ]
  },
  {
   "cell_type": "code",
   "execution_count": 15,
   "metadata": {},
   "outputs": [],
   "source": [
    "class LogisticRegressionGD(object):\n",
    "    \"\"\"Logistic Regression Classifier Using Gradient Descent\n",
    "    \n",
    "    parameter\n",
    "    -------------\n",
    "    eta : float\n",
    "        running rate (between 0.0 and 1.0)\n",
    "    n_iter : int\n",
    "        training dataset iterations\n",
    "    random_state : int\n",
    "        random number generator seed for weight randomization\n",
    "    \n",
    "    property\n",
    "    ------------\n",
    "    w_ : 1d-array\n",
    "        learned weights\n",
    "    errors_ :list\n",
    "        cumulative classification error per epoch\n",
    "        \n",
    "    \"\"\"\n",
    "    def __init__(self, eta=0.05, n_iter=100, random_state=1):\n",
    "        self.eta = eta\n",
    "        self.n_iter = n_iter\n",
    "        self.random_state = random_state\n",
    "        \n",
    "    def fit(self, X, y):\n",
    "        \"\"\"Training data learning\n",
    "        \n",
    "        parameter\n",
    "        ------------\n",
    "        X : {array-like}, shape = [n_samples, n_features]\n",
    "            Training data consisting of n_samples samples and n_features characteristics\n",
    "        y : array-like, shape = [n_samples]\n",
    "            target value\n",
    "            \n",
    "        Conversion value\n",
    "        -------\n",
    "        self : object\n",
    "        \n",
    "        \"\"\"\n",
    "        rgen = np.random.RandomState(self.random_state)\n",
    "        self.w_ = rgen.normal(loc=0.0, scale=0.01,\n",
    "                             size=1 + X.shape[1])\n",
    "        self.cost_ = []\n",
    "        \n",
    "        for i in range(self.n_iter):\n",
    "            net_input = self.net_input(X)\n",
    "            output = self.activation(net_input)\n",
    "            errors = (y - output)\n",
    "            self.w_[1:] += self.eta * X.T.dot(errors)\n",
    "            self.w_[0] += self.eta * errors.sum()\n",
    "            \n",
    "            #Calculate logistic cost instead of sum of squared errors\n",
    "            cost = (-y.dot(np.log(output)) -\n",
    "                    ((1-y).dot(np.log(1-output))))\n",
    "            self.cost_.append(cost)\n",
    "        return self\n",
    "    \n",
    "    def net_input(self, X):\n",
    "        \"\"\"final input calculation\"\"\"\n",
    "        return np.dot(X, self.w_[1:]) + self.w_[0]\n",
    "    \n",
    "    def activation(self, z):\n",
    "        \"\"\"Logistic Sigmoid Activation Calculation\"\"\"\n",
    "        return 1. / (1. + np.exp(-np.clip(z, -250, 250)))\n",
    "    \n",
    "    def predict(self, X):\n",
    "        \"\"\"Return class label using unit step function\"\"\"\n",
    "        return np.where(self.net_input(X) >= 0.0, 1, 0)\n",
    "        # == return np.where(self.activation(self.net_input(X)) >= 0.5, 1, 0)"
   ]
  },
  {
   "cell_type": "markdown",
   "metadata": {},
   "source": [
    "Logistic models implemented directly here can only be applied to binary classification models"
   ]
  },
  {
   "cell_type": "code",
   "execution_count": 16,
   "metadata": {},
   "outputs": [
    {
     "data": {
      "image/png": "[encoded data removed]",
      "text/plain": [
       "<Figure size 432x288 with 1 Axes>"
      ]
     },
     "metadata": {
      "needs_background": "light"
     },
     "output_type": "display_data"
    }
   ],
   "source": [
    "X_train_01_subset = X_train[(y_train == 0) | (y_train == 1)]\n",
    "y_train_01_subset = y_train[(y_train == 0) | (y_train == 1)]\n",
    "lrgd = LogisticRegressionGD(eta=0.05,\n",
    "                           n_iter=1000,\n",
    "                           random_state=1)\n",
    "lrgd.fit(X_train_01_subset,\n",
    "        y_train_01_subset)\n",
    "plot_decision_regions(X=X_train_01_subset,\n",
    "                     y=y_train_01_subset,\n",
    "                     classifier=lrgd)\n",
    "plt.xlabel('petal length [standardized]')\n",
    "plt.ylabel('petal width [standardized]')\n",
    "plt.legend(loc='upper left')\n",
    "plt.tight_layout()\n",
    "plt.show()"
   ]
  },
  {
   "cell_type": "markdown",
   "metadata": {},
   "source": [
    "### 3.3.4 Training logistic regression models using scikit-learn"
   ]
  },
  {
   "cell_type": "code",
   "execution_count": 17,
   "metadata": {},
   "outputs": [
    {
     "data": {
      "image/png": "[encoded data removed]",
      "text/plain": [
       "<Figure size 432x288 with 1 Axes>"
      ]
     },
     "metadata": {
      "needs_background": "light"
     },
     "output_type": "display_data"
    }
   ],
   "source": [
    "from sklearn.linear_model import LogisticRegression\n",
    "lr = LogisticRegression(solver='liblinear', multi_class='auto',\n",
    "                       C=100.0, random_state=1)\n",
    "lr.fit(X_train_std, y_train)\n",
    "plot_decision_regions(X_combined_std,\n",
    "                     y_combined,\n",
    "                     classifier=lr,\n",
    "                     test_idx=range(105, 150))\n",
    "plt.xlabel('petal length [standardized]')\n",
    "plt.ylabel('petal width [standardized]')\n",
    "plt.legend(loc='upper left')\n",
    "plt.tight_layout()\n",
    "plt.show()"
   ]
  },
  {
   "cell_type": "markdown",
   "metadata": {},
   "source": [
    "The probability that a training sample belongs to a class is calculated using the predict_proba method"
   ]
  },
  {
   "cell_type": "code",
   "execution_count": 18,
   "metadata": {},
   "outputs": [
    {
     "data": {
      "text/plain": [
       "array([[3.17983737e-08, 1.44886616e-01, 8.55113353e-01],\n",
       "       [8.33962295e-01, 1.66037705e-01, 4.55557009e-12],\n",
       "       [8.48762934e-01, 1.51237066e-01, 4.63166788e-13]])"
      ]
     },
     "execution_count": 18,
     "metadata": {},
     "output_type": "execute_result"
    }
   ],
   "source": [
    "lr.predict_proba(X_test_std[:3, :])"
   ]
  },
  {
   "cell_type": "markdown",
   "metadata": {},
   "source": [
    "If you add up all the columns, you get 1"
   ]
  },
  {
   "cell_type": "code",
   "execution_count": 19,
   "metadata": {},
   "outputs": [
    {
     "data": {
      "text/plain": [
       "array([1., 1., 1.])"
      ]
     },
     "execution_count": 19,
     "metadata": {},
     "output_type": "execute_result"
    }
   ],
   "source": [
    "lr.predict_proba(X_test_std[:3, :]).sum(axis=1)"
   ]
  },
  {
   "cell_type": "markdown",
   "metadata": {},
   "source": [
    "The column with the largest value in the row becomes the prediction class label"
   ]
  },
  {
   "cell_type": "code",
   "execution_count": 20,
   "metadata": {},
   "outputs": [
    {
     "data": {
      "text/plain": [
       "array([2, 0, 0], dtype=int64)"
      ]
     },
     "execution_count": 20,
     "metadata": {},
     "output_type": "execute_result"
    }
   ],
   "source": [
    "lr.predict_proba(X_test_std[:3, :]).argmax(axis=1)"
   ]
  },
  {
   "cell_type": "markdown",
   "metadata": {},
   "source": [
    "You can check quickly using the predict method"
   ]
  },
  {
   "cell_type": "code",
   "execution_count": 21,
   "metadata": {},
   "outputs": [
    {
     "data": {
      "text/plain": [
       "array([2, 0, 0])"
      ]
     },
     "execution_count": 21,
     "metadata": {},
     "output_type": "execute_result"
    }
   ],
   "source": [
    "lr.predict(X_test_std[:3,:])"
   ]
  },
  {
   "cell_type": "markdown",
   "metadata": {},
   "source": [
    "scikit-learn expects a two-dimensional array as input data  \n",
    "One row must be converted to two-dimensional format first  \n",
    "One way to convert a row into a two-dimensional array is to add a new dimension using the Numpy reshape method"
   ]
  },
  {
   "cell_type": "code",
   "execution_count": 22,
   "metadata": {},
   "outputs": [
    {
     "data": {
      "text/plain": [
       "array([2])"
      ]
     },
     "execution_count": 22,
     "metadata": {},
     "output_type": "execute_result"
    }
   ],
   "source": [
    "lr.predict(X_test_std[0, :].reshape(1,-1))"
   ]
  },
  {
   "cell_type": "markdown",
   "metadata": {},
   "source": [
    "### 3.3.5 Use Regulation to Avoid Overfitting\n",
    "Overfitting is a common problem in machine learning  \n",
    "The model works well with the training data, but it is not very generalized with the data you have never seen before  \n",
    "That the variance is large when the model is overfitting  \n",
    "Because there are too many model parameters to make the model too complex from the given data  \n",
    "Similarly, sometimes the model is underfitting  \n",
    "This means that the model is not complex enough to detect patterns in the training data\n",
    "<img src='https://miro.medium.com/max/824/1*JZbxrdzabrT33Yl-LrmShw.png'>  \n",
    "One way to find a good bias-distributed tradeoff is to use regulation to adjust the complexity of the model  \n",
    "The most widely used form of regulation is the following L2 regulations:  \n",
    "$$\n",
    "\\frac{\\lambda}{2}\\left\\| w\\right\\|^{2}=\\frac{\\lambda}{2}\\sum_{j=1}^{m}w_{j}^{2}\n",
    "$$\n",
    "In this expression, $\\lambda$ is the regulatory hyperparameter  \n",
    "Cost function of logistic regression applies regulation by adding regulatory terms  \n",
    "Regulatory terms reduce weight in model training  \n",
    "$$\n",
    "J(w)=\\sum_{i=1}^{n}\\left[-y^{(i)}\\log\\left(\\phi\\left(z^{(i)}\\right)\\right)-\\left(1-y^{(i)}\\log\\left(1-\\phi\\left(z^{(i)} \\right) \\right) \\right) \\right]+\\frac{\\lambda}{2}\\left\\|w\\right\\|^{2}\n",
    "$$\n",
    "You can use $\\lambda$ to adjust how well it fits your training data while keeping the weights small  \n",
    "Increasing $\\lambda$ increases regulatory strength  \n",
    "\n",
    "The parameter c is the inverse of $\\lambda$  \n",
    "As a result, decreasing the value of c increases the regulatory strength  "
   ]
  },
  {
   "cell_type": "code",
   "execution_count": 24,
   "metadata": {},
   "outputs": [
    {
     "data": {
      "image/png": "[encoded data removed]",
      "text/plain": [
       "<Figure size 432x288 with 1 Axes>"
      ]
     },
     "metadata": {
      "needs_background": "light"
     },
     "output_type": "display_data"
    }
   ],
   "source": [
    "weights, params = [], []\n",
    "for c in np.arange(-5, 5):\n",
    "    lr = LogisticRegression(solver='liblinear', multi_class='auto', C=10.**c,random_state=1)\n",
    "    lr.fit(X_train_std, y_train)\n",
    "    weights.append(lr.coef_[1])\n",
    "    params.append(10.**c)\n",
    "weights = np.array(weights)\n",
    "plt.plot(params, weights[:, 0], label='petal length')\n",
    "plt.plot(params, weights[:, 1], linestyle='--', label='petal width')\n",
    "plt.ylabel('weight coefficient')\n",
    "plt.xlabel('C')\n",
    "plt.legend(loc='upper left')\n",
    "plt.xscale('log')\n",
    "plt.show()"
   ]
  },
  {
   "cell_type": "markdown",
   "metadata": {},
   "source": [
    "## 3.4 Maximum Margin Classification Using Support Vector Machines\n",
    "\n",
    "SVM's optimization target is to maximize margins  \n",
    "\n",
    "<img src='https://static.packt-cdn.com/products/9781783555130/graphics/3547_03_07.jpg'>"
   ]
  },
  {
   "cell_type": "code",
   "execution_count": null,
   "metadata": {},
   "outputs": [],
   "source": []
  }
 ],
 "metadata": {
  "kernelspec": {
   "display_name": "Python 3",
   "language": "python",
   "name": "python3"
  },
  "language_info": {
   "codemirror_mode": {
    "name": "ipython",
    "version": 3
   },
   "file_extension": ".py",
   "mimetype": "text/x-python",
   "name": "python",
   "nbconvert_exporter": "python",
   "pygments_lexer": "ipython3",
   "version": "3.7.3"
  }
 },
 "nbformat": 4,
 "nbformat_minor": 2
}
